{
 "cells": [
  {
   "cell_type": "markdown",
   "metadata": {},
   "source": [
    "# Functions:\n",
    "- code reusability\n",
    "- simple\n",
    "- program can be further divided into subprograms"
   ]
  },
  {
   "cell_type": "markdown",
   "metadata": {},
   "source": [
    "### syntax:\n",
    "- def functionname(<parameters>):\n",
    "    - statements\n",
    "    - return"
   ]
  },
  {
   "cell_type": "code",
   "execution_count": 1,
   "metadata": {},
   "outputs": [],
   "source": [
    "# read a number\n",
    "# output: sum of even digits of the given number\n",
    "#input:1234\n",
    "#output:6(2+4)"
   ]
  },
  {
   "cell_type": "code",
   "execution_count": 4,
   "metadata": {},
   "outputs": [
    {
     "data": {
      "text/plain": [
       "6"
      ]
     },
     "execution_count": 4,
     "metadata": {},
     "output_type": "execute_result"
    }
   ],
   "source": [
    "def evendigitsum(n):\n",
    "    s=0\n",
    "    while n!=0:\n",
    "        r=n%10\n",
    "        if(r%2==0):\n",
    "            s=s+r\n",
    "        n=n//10\n",
    "    return s\n",
    "evendigitsum(1234)"
   ]
  },
  {
   "cell_type": "code",
   "execution_count": 10,
   "metadata": {},
   "outputs": [
    {
     "name": "stdout",
     "output_type": "stream",
     "text": [
      "9\n"
     ]
    }
   ],
   "source": [
    "# input:19535\n",
    "# output:9(print the largest didgit of the given number)\n",
    "def largestnumber(n):\n",
    "    large=0\n",
    "    s=0\n",
    "    while n!=0:\n",
    "        r=n%10\n",
    "        if large<r:\n",
    "            large=r\n",
    "        n=n//10\n",
    "    print(large)\n",
    "largestnumber(19535)"
   ]
  },
  {
   "cell_type": "markdown",
   "metadata": {},
   "source": [
    "# for loop:\n",
    "### syntax:\n",
    "- for variable_name in iterable_obj:\n",
    "    - statements\n",
    "- for variable_name in range(start,stop,step): (stop value will not be included)\n",
    "    - statements"
   ]
  },
  {
   "cell_type": "code",
   "execution_count": 14,
   "metadata": {},
   "outputs": [
    {
     "name": "stdout",
     "output_type": "stream",
     "text": [
      "0\n",
      "2\n",
      "4\n",
      "6\n",
      "8\n",
      "10\n"
     ]
    }
   ],
   "source": [
    "for i in range(0,10+1,2):\n",
    "    print(i)"
   ]
  },
  {
   "cell_type": "code",
   "execution_count": null,
   "metadata": {},
   "outputs": [],
   "source": [
    "# function to print alternate numbers:\n",
    "#[500,520]--502,504,506,---520"
   ]
  },
  {
   "cell_type": "code",
   "execution_count": 17,
   "metadata": {},
   "outputs": [
    {
     "name": "stdout",
     "output_type": "stream",
     "text": [
      "500 502 504 506 508 510 512 514 516 518 520 "
     ]
    }
   ],
   "source": [
    "def alternatenumbers(lb,ub):\n",
    "    for i in range(lb,ub+1,2):\n",
    "        print(i,end=\" \")\n",
    "alternatenumbers(500,520)"
   ]
  },
  {
   "cell_type": "markdown",
   "metadata": {},
   "source": [
    "# collection types:\n",
    "## 1.list\n",
    "## 2.tuple\n",
    "## 3.set\n",
    "## 4.dictionary"
   ]
  },
  {
   "cell_type": "markdown",
   "metadata": {},
   "source": [
    "### 1.lists:\n",
    "- list is one of the data structure in python\n",
    "- lists are enclosed in[]\n",
    "- list=[1,2,3,4]"
   ]
  },
  {
   "cell_type": "code",
   "execution_count": 19,
   "metadata": {},
   "outputs": [
    {
     "data": {
      "text/plain": [
       "list"
      ]
     },
     "execution_count": 19,
     "metadata": {},
     "output_type": "execute_result"
    }
   ],
   "source": [
    "li=[1, \"Gitam\",\"python\",32.5]\n",
    "type(li)"
   ]
  },
  {
   "cell_type": "code",
   "execution_count": 21,
   "metadata": {},
   "outputs": [
    {
     "name": "stdout",
     "output_type": "stream",
     "text": [
      "[1, 'Gitam', 'python', 32.5]\n",
      "1\n",
      "32.5\n",
      "['Gitam', 'python']\n"
     ]
    }
   ],
   "source": [
    "print(li)\n",
    "print(li[0])\n",
    "print(li[-1])\n",
    "print(li[1:3])"
   ]
  },
  {
   "cell_type": "code",
   "execution_count": null,
   "metadata": {},
   "outputs": [],
   "source": []
  }
 ],
 "metadata": {
  "kernelspec": {
   "display_name": "Python 3",
   "language": "python",
   "name": "python3"
  },
  "language_info": {
   "codemirror_mode": {
    "name": "ipython",
    "version": 3
   },
   "file_extension": ".py",
   "mimetype": "text/x-python",
   "name": "python",
   "nbconvert_exporter": "python",
   "pygments_lexer": "ipython3",
   "version": "3.7.4"
  }
 },
 "nbformat": 4,
 "nbformat_minor": 2
}
